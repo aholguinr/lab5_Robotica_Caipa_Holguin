{
 "cells": [
  {
   "cell_type": "code",
   "execution_count": 3,
   "metadata": {},
   "outputs": [],
   "source": [
    "import numpy as np"
   ]
  },
  {
   "cell_type": "code",
   "execution_count": 67,
   "metadata": {},
   "outputs": [],
   "source": [
    "def theta_1(P_x,P_y):\n",
    "    return np.arctan2(P_y,P_x)\n",
    "\n",
    "def theta_2(P_x,P_y,P_z,beta,L_1,L_2,L_3,L_4):\n",
    "    R=np.sqrt(P_x**2+P_y**2)\n",
    "    D_r=R-L_4*np.cos(beta)\n",
    "    D_z=P_z-L_4*np.sin(beta)-L_1\n",
    "    return -2*np.arctan((2*D_r*L_2 - np.sqrt(- D_r**4 - 2*D_r**2*D_z**2 + 2*D_r**2*L_2**2 + 2*D_r**2*L_3**2 - D_z**4 + 2*D_z**2*L_2**2 + 2*D_z**2*L_3**2 - L_2**4 + 2*L_2**2*L_3**2 - L_3**4))/(D_r**2 + D_z**2 + 2*D_z*L_2 + L_2**2 - L_3**2))\n",
    "\n",
    "def theta_3(P_x,P_y,P_z,beta,L_1,L_2,L_3,L_4):\n",
    "    R=np.sqrt(P_x**2+P_y**2)\n",
    "    D_r=R-L_4*np.cos(beta)\n",
    "    D_z=P_z-L_4*np.sin(beta)-L_1\n",
    "    return -2*np.arctan((np.sqrt((- D_r**2 - D_z**2 + L_2**2 + 2*L_2*L_3 + L_3**2)*(D_r**2 + D_z**2 - L_2**2 + 2*L_2*L_3 - L_3**2)) - 2*L_2*L_3)/(D_r**2 + D_z**2 - L_2**2 - L_3**2))\n",
    "\n",
    "def theta_4(beta,theta_2,theta_3):\n",
    "    return beta-theta_2-theta_3\n",
    "\n",
    "def ikine4r(P_x,P_y,P_z,beta):\n",
    "    L_1=0.137\n",
    "    L_2=0.105\n",
    "    L_3=0.105\n",
    "    L_4=0.095\n",
    "    T1=theta_1(P_x,P_y)\n",
    "    T2=theta_2(P_x,P_y,P_z,beta,L_1,L_2,L_3,L_4)\n",
    "    T3=theta_3(P_x,P_y,P_z,beta,L_1,L_2,L_3,L_4)\n",
    "    T4=theta_4(beta,T2,T3)\n",
    "    return np.array([T1,T2,T3,T4])\n",
    "\n",
    "def ConvGra2An(q,q_Home):\n",
    "    ListDouble=q+q_Home\n",
    "    for i in range(len(ListDouble)):\n",
    "        ListDouble[i]=int(np.interp(ListDouble[i],[0, 300],[0, 1023]))\n",
    "    return ListDouble\n"
   ]
  },
  {
   "cell_type": "code",
   "execution_count": 6,
   "metadata": {},
   "outputs": [
    {
     "data": {
      "text/plain": [
       "array([-0.9463319 , -0.93998522, -0.23124155,  1.17122677])"
      ]
     },
     "execution_count": 6,
     "metadata": {},
     "output_type": "execute_result"
    }
   ],
   "source": [
    "q_4=[95.84,92.92,48.34,222.36]\n",
    "q_Home=[150,150,60,150]\n",
    "\n",
    "np.multiply(np.subtract(q_4,q_Home),np.pi/180)\n",
    "\n",
    "L_1=0.137\n",
    "L_2=0.105\n",
    "L_3=0.105\n",
    "L_4=0.095\n",
    "\n",
    "ikine4r(0.129,-0.179,0.1022,0,L_1,L_2,L_3,L_4)\n",
    "\n"
   ]
  },
  {
   "cell_type": "code",
   "execution_count": 68,
   "metadata": {},
   "outputs": [
    {
     "name": "stdout",
     "output_type": "stream",
     "text": [
      "[511 511 204 511 511]\n",
      "[511 511 204 511 750]\n",
      "[-1.10714872 -0.97106358 -0.18893574  1.15999931]\n",
      "[-1.10714872 -0.56232242 -0.24466926  0.80699168]\n"
     ]
    }
   ],
   "source": [
    "q_4=np.array([0,0,0,0])\n",
    "q_Home=np.array([150,150,60,150])\n",
    "\n",
    "H=ConvGra2An(q_4,q_Home)\n",
    "\n",
    "\n",
    "HomeS=np.array([0,0,0,0,0])\n",
    "HomeC=np.array([0,0,0,0,70])\n",
    "AngHome=np.array([150,150,60,150,150])\n",
    "#Valores análogos de la posición home y los casos. Se obtuvieron desde dynamixel_wizard\n",
    "PosAnHomeS=ConvGra2An(HomeS,AngHome)\n",
    "PosAnHomeC=ConvGra2An(HomeC,AngHome)\n",
    "print(PosAnHomeS)\n",
    "print(PosAnHomeC)\n",
    "\n",
    "\n",
    "Zpiso=0.095\n",
    "Zportaherramientas=0.1\n",
    "\n",
    "\n",
    "#Valores análogos de la posición home y los casos. Se obtuvieron desde dynamixel_wizard\n",
    "PosAnHomeS=ConvGra2An(HomeS,AngHome)\n",
    "PosAnHomeC=ConvGra2An(HomeC,AngHome)\n",
    "\n",
    "\n",
    "\n",
    "AngPortaHerramientasArriba=ikine4r(0.1,-0.2,Zportaherramientas,0)\n",
    "AngPortaHerramientasAbajo=ikine4r(0.1,-0.2,Zportaherramientas+0.05,0)\n",
    "\n",
    "\n",
    "print(AngPortaHerramientasArriba)\n",
    "print(AngPortaHerramientasAbajo)"
   ]
  },
  {
   "cell_type": "code",
   "execution_count": 73,
   "metadata": {},
   "outputs": [
    {
     "name": "stdout",
     "output_type": "stream",
     "text": [
      "[ 1.22173048 -0.93475153 -0.74547649  1.68022802]\n",
      "[-1.22173048 -0.93475153 -0.74547649  1.68022802]\n",
      "[ 1.22173048 -1.68880176  1.40264408  0.28615768]\n",
      "[-1.22173048 -1.68880176  1.40264408  0.28615768]\n"
     ]
    }
   ],
   "source": [
    "lim=70*np.pi/180\n",
    "AngArcMinIzq=ikine4r(0.168,0,Zpiso,0)\n",
    "AngArcMinIzq[0]=lim\n",
    "AngArcMinDer=ikine4r(0.168,0,Zpiso,0)\n",
    "AngArcMinDer[0]=-lim\n",
    "\n",
    "AngArcMaxIzq=ikine4r(0.3,0,Zpiso,0)\n",
    "AngArcMaxIzq[0]=lim\n",
    "AngArcMaxDer=ikine4r(0.3,0,Zpiso,0)\n",
    "AngArcMaxDer[0]=-lim\n",
    "\n",
    "\n",
    "print(AngArcMinIzq)\n",
    "print(AngArcMinDer)\n",
    "print(AngArcMaxIzq)\n",
    "print(AngArcMaxDer)"
   ]
  },
  {
   "cell_type": "code",
   "execution_count": 123,
   "metadata": {},
   "outputs": [],
   "source": [
    "Zpiso=0.095\n",
    "Zportaherramientas=0.1\n",
    "Zseguridad=0.15\n",
    "beta=0\n",
    "\n",
    "def ConvPosArr2QArr(PosArr):\n",
    "    [r,c]=PosArr.shape\n",
    "    QArr=np.zeros([r,c])\n",
    "    for i in range(r):\n",
    "        QArr[i,:]=ikine4r(PosArr[i,0],PosArr[i,1],PosArr[i,2],PosArr[i,3])    \n",
    "    return QArr\n",
    "\n",
    "PuntosA=np.array([[0.200,0.150,Zpiso,beta],[0.250,0.125,Zpiso,beta],[0.200,0.100,Zpiso,beta],[0.225,0.1125,Zpiso,beta],[0.225,0.1375,Zpiso,beta]])\n",
    "PuntosJ=np.array([[0.250,0.100,Zpiso,beta],[0.250,0.050,Zpiso,beta],[0.250,0.075,Zpiso,beta],[0.200,0.075,Zpiso,beta],[0.200,0.100,Zpiso,beta]])\n",
    "PuntosTri=np.array([[0.200,0,Zpiso,beta],[0.200,0.050,Zpiso,beta],[0.2433,0.025,Zpiso,beta],[0.200,0,Zpiso,beta]])\n",
    "PuntosR1=np.array([[0.200,-0.050,Zpiso,beta],[0.200,-0.100,Zpiso,beta]])\n",
    "PuntosR2=np.array([[0.225,-0.050,Zpiso,beta],[0.225,-0.100,Zpiso,beta]])\n",
    "PuntosR3=np.array([[0.250,-0.050,Zpiso,beta],[0.250,-0.100,Zpiso,beta]])\n",
    "PuntosEQTablero=np.array([[0.200,-0.125,Zpiso,beta],[0.210,-0.125,Zpiso,beta],[0.220,-0.125,Zpiso,beta],[0.230,-0.125,Zpiso,beta],[0.240,-0.125,Zpiso,beta],[0.250,-0.125,Zpiso,beta]])\n",
    "PuntosEQSeguridad=np.array([[0.200,-0.125,Zseguridad,beta],[0.210,-0.125,Zseguridad,beta],[0.220,-0.125,Zseguridad,beta],[0.230,-0.125,Zseguridad,beta],[0.240,-0.125,Zseguridad,beta],[0.250,-0.125,Zseguridad,beta]])\n",
    "\n",
    "#Qpuntos\n",
    "QPuntosA=ConvPosArr2QArr(PuntosA)\n",
    "QPuntosJ=ConvPosArr2QArr(PuntosJ)\n",
    "QPuntosTri=ConvPosArr2QArr(PuntosTri)\n",
    "QPuntosR1=ConvPosArr2QArr(PuntosR1)\n",
    "QPuntosR2=ConvPosArr2QArr(PuntosR2)\n",
    "QPuntosR3=ConvPosArr2QArr(PuntosR3)\n",
    "QPuntosEQTablero=ConvPosArr2QArr(PuntosEQTablero)\n",
    "QPuntosEQSeguridad=ConvPosArr2QArr(PuntosEQSeguridad)\n"
   ]
  },
  {
   "cell_type": "markdown",
   "metadata": {},
   "source": []
  },
  {
   "cell_type": "code",
   "execution_count": 128,
   "metadata": {},
   "outputs": [
    {
     "data": {
      "text/plain": [
       "array([2.61799388, 2.61799388, 1.04719755, 2.61799388, 2.61799388])"
      ]
     },
     "execution_count": 128,
     "metadata": {},
     "output_type": "execute_result"
    }
   ],
   "source": [
    "AngHomeGrad=np.array([150,150,60,150,150])\n",
    "AngHomeRad=np.multiply(AngHomeGrad,np.pi/180)\n",
    "AngHomeRad\n",
    "\n"
   ]
  },
  {
   "cell_type": "code",
   "execution_count": 11,
   "metadata": {},
   "outputs": [
    {
     "data": {
      "text/plain": [
       "902"
      ]
     },
     "execution_count": 11,
     "metadata": {},
     "output_type": "execute_result"
    }
   ],
   "source": [
    "from typing import Mapping\n",
    "\n",
    "from numpy import interp\n",
    "from numpy import pi\n",
    "import numpy as np\n",
    "\n",
    "\n",
    "\n",
    "\n",
    "def mapAn(theta):\n",
    "    return int(interp(theta,[-150, 150],[0, 1023]))\n",
    "\n",
    "\n",
    "mapAn(2)"
   ]
  },
  {
   "cell_type": "code",
   "execution_count": null,
   "metadata": {},
   "outputs": [],
   "source": [
    "713\n",
    "962\n",
    "162"
   ]
  }
 ],
 "metadata": {
  "kernelspec": {
   "display_name": "Python 3.9.12 ('base')",
   "language": "python",
   "name": "python3"
  },
  "language_info": {
   "codemirror_mode": {
    "name": "ipython",
    "version": 3
   },
   "file_extension": ".py",
   "mimetype": "text/x-python",
   "name": "python",
   "nbconvert_exporter": "python",
   "pygments_lexer": "ipython3",
   "version": "3.9.12"
  },
  "orig_nbformat": 4,
  "vscode": {
   "interpreter": {
    "hash": "c4f92193806e2908606a5f23edd55a5282f2f433b73b1c504507f9256ed9f0b4"
   }
  }
 },
 "nbformat": 4,
 "nbformat_minor": 2
}
