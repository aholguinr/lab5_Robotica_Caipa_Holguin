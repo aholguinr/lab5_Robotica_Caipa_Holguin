{
 "cells": [
  {
   "cell_type": "code",
   "execution_count": 1,
   "metadata": {},
   "outputs": [],
   "source": [
    "import numpy as np"
   ]
  },
  {
   "cell_type": "code",
   "execution_count": 2,
   "metadata": {},
   "outputs": [],
   "source": [
    "def theta_1(P_x,P_y):\n",
    "    return np.arctan2(P_y,P_x)\n",
    "\n",
    "def theta_2(P_x,P_y,P_z,beta,L_1,L_2,L_3,L_4):\n",
    "    R=np.sqrt(P_x**2+P_y**2)\n",
    "    D_r=R-L_4*np.cos(beta)\n",
    "    D_z=P_z-L_4*np.sin(beta)-L_1\n",
    "    return -2*np.arctan((2*D_r*L_2 - np.sqrt(- D_r**4 - 2*D_r**2*D_z**2 + 2*D_r**2*L_2**2 + 2*D_r**2*L_3**2 - D_z**4 + 2*D_z**2*L_2**2 + 2*D_z**2*L_3**2 - L_2**4 + 2*L_2**2*L_3**2 - L_3**4))/(D_r**2 + D_z**2 + 2*D_z*L_2 + L_2**2 - L_3**2))\n",
    "\n",
    "def theta_3(P_x,P_y,P_z,beta,L_1,L_2,L_3,L_4):\n",
    "    R=np.sqrt(P_x**2+P_y**2)\n",
    "    D_r=R-L_4*np.cos(beta)\n",
    "    D_z=P_z-L_4*np.sin(beta)-L_1\n",
    "    return -2*np.arctan((np.sqrt((- D_r**2 - D_z**2 + L_2**2 + 2*L_2*L_3 + L_3**2)*(D_r**2 + D_z**2 - L_2**2 + 2*L_2*L_3 - L_3**2)) - 2*L_2*L_3)/(D_r**2 + D_z**2 - L_2**2 - L_3**2))\n",
    "\n",
    "def theta_4(beta,theta_2,theta_3):\n",
    "    return beta-theta_2-theta_3\n",
    "\n",
    "def ikine4r(P_x,P_y,P_z,beta):\n",
    "    L_1=0.137\n",
    "    L_2=0.105\n",
    "    L_3=0.105\n",
    "    L_4=0.095\n",
    "    T1=theta_1(P_x,P_y)\n",
    "    T2=theta_2(P_x,P_y,P_z,beta,L_1,L_2,L_3,L_4)\n",
    "    T3=theta_3(P_x,P_y,P_z,beta,L_1,L_2,L_3,L_4)\n",
    "    T4=theta_4(beta,T2,T3)\n",
    "    return np.array([T1,T2,T3,T4])\n",
    "\n",
    "def ConvRad2An(q,q_Home):\n",
    "    ListAn=q+q_Home\n",
    "    for i in range(len(ListAn)):\n",
    "        ListAn[i]=int(np.interp(ListAn[i],[0, 300*np.pi/180],[0, 1023]))\n",
    "    return ListAn\n",
    "\n",
    "    \n",
    "def ConvGra2An(q,q_Home):\n",
    "    ListAn=q+q_Home\n",
    "    for i in range(len(ListAn)):\n",
    "        ListAn[i]=int(np.interp(ListAn[i],[0, 300],[0, 1023]))\n",
    "    return ListAn\n"
   ]
  },
  {
   "cell_type": "code",
   "execution_count": 11,
   "metadata": {},
   "outputs": [
    {
     "data": {
      "text/plain": [
       "array([[1.        , 1.        , 1.        , 1.        ],\n",
       "       [1.02777778, 1.05555556, 1.11111111, 1.13888889],\n",
       "       [1.11111111, 1.22222222, 1.44444444, 1.55555556],\n",
       "       [1.25      , 1.5       , 2.        , 2.25      ],\n",
       "       [1.41666667, 1.83333333, 2.66666667, 3.08333333],\n",
       "       [1.58333333, 2.16666667, 3.33333333, 3.91666667],\n",
       "       [1.75      , 2.5       , 4.        , 4.75      ],\n",
       "       [1.88888889, 2.77777778, 4.55555556, 5.44444444],\n",
       "       [1.97222222, 2.94444444, 4.88888889, 5.86111111],\n",
       "       [2.        , 3.        , 5.        , 6.        ]])"
      ]
     },
     "execution_count": 11,
     "metadata": {},
     "output_type": "execute_result"
    }
   ],
   "source": [
    "\n"
   ]
  },
  {
   "cell_type": "code",
   "execution_count": 6,
   "metadata": {},
   "outputs": [
    {
     "data": {
      "text/plain": [
       "array([-0.9463319 , -0.93998522, -0.23124155,  1.17122677])"
      ]
     },
     "execution_count": 6,
     "metadata": {},
     "output_type": "execute_result"
    }
   ],
   "source": [
    "q_4=[95.84,92.92,48.34,222.36]\n",
    "q_Home=[150,150,60,150]\n",
    "\n",
    "np.multiply(np.subtract(q_4,q_Home),np.pi/180)\n",
    "\n",
    "L_1=0.137\n",
    "L_2=0.105\n",
    "L_3=0.105\n",
    "L_4=0.095\n",
    "\n",
    "ikine4r(0.129,-0.179,0.1022,0,L_1,L_2,L_3,L_4)\n",
    "\n"
   ]
  },
  {
   "cell_type": "code",
   "execution_count": 68,
   "metadata": {},
   "outputs": [
    {
     "name": "stdout",
     "output_type": "stream",
     "text": [
      "[511 511 204 511 511]\n",
      "[511 511 204 511 750]\n",
      "[-1.10714872 -0.97106358 -0.18893574  1.15999931]\n",
      "[-1.10714872 -0.56232242 -0.24466926  0.80699168]\n"
     ]
    }
   ],
   "source": [
    "q_4=np.array([0,0,0,0])\n",
    "q_Home=np.array([150,150,60,150])\n",
    "\n",
    "H=ConvGra2An(q_4,q_Home)\n",
    "\n",
    "\n",
    "HomeS=np.array([0,0,0,0,0])\n",
    "HomeC=np.array([0,0,0,0,70])\n",
    "AngHome=np.array([150,150,60,150,150])\n",
    "#Valores análogos de la posición home y los casos. Se obtuvieron desde dynamixel_wizard\n",
    "PosAnHomeS=ConvGra2An(HomeS,AngHome)\n",
    "PosAnHomeC=ConvGra2An(HomeC,AngHome)\n",
    "print(PosAnHomeS)\n",
    "print(PosAnHomeC)\n",
    "\n",
    "\n",
    "Zpiso=0.095\n",
    "Zportaherramientas=0.1\n",
    "\n",
    "\n",
    "#Valores análogos de la posición home y los casos. Se obtuvieron desde dynamixel_wizard\n",
    "PosAnHomeS=ConvGra2An(HomeS,AngHome)\n",
    "PosAnHomeC=ConvGra2An(HomeC,AngHome)\n",
    "\n",
    "\n",
    "\n",
    "AngPortaHerramientasArriba=ikine4r(0.1,-0.2,Zportaherramientas,0)\n",
    "AngPortaHerramientasAbajo=ikine4r(0.1,-0.2,Zportaherramientas+0.05,0)\n",
    "\n",
    "\n",
    "print(AngPortaHerramientasArriba)\n",
    "print(AngPortaHerramientasAbajo)"
   ]
  },
  {
   "cell_type": "code",
   "execution_count": 73,
   "metadata": {},
   "outputs": [
    {
     "name": "stdout",
     "output_type": "stream",
     "text": [
      "[ 1.22173048 -0.93475153 -0.74547649  1.68022802]\n",
      "[-1.22173048 -0.93475153 -0.74547649  1.68022802]\n",
      "[ 1.22173048 -1.68880176  1.40264408  0.28615768]\n",
      "[-1.22173048 -1.68880176  1.40264408  0.28615768]\n"
     ]
    }
   ],
   "source": [
    "lim=70*np.pi/180\n",
    "AngArcMinIzq=ikine4r(0.168,0,Zpiso,0)\n",
    "AngArcMinIzq[0]=lim\n",
    "AngArcMinDer=ikine4r(0.168,0,Zpiso,0)\n",
    "AngArcMinDer[0]=-lim\n",
    "\n",
    "AngArcMaxIzq=ikine4r(0.3,0,Zpiso,0)\n",
    "AngArcMaxIzq[0]=lim\n",
    "AngArcMaxDer=ikine4r(0.3,0,Zpiso,0)\n",
    "AngArcMaxDer[0]=-lim\n",
    "\n",
    "\n",
    "print(AngArcMinIzq)\n",
    "print(AngArcMinDer)\n",
    "print(AngArcMaxIzq)\n",
    "print(AngArcMaxDer)"
   ]
  },
  {
   "cell_type": "code",
   "execution_count": 26,
   "metadata": {},
   "outputs": [
    {
     "name": "stdout",
     "output_type": "stream",
     "text": [
      "\n",
      "tiempo de ejecucion: 0.00 s\n"
     ]
    }
   ],
   "source": [
    "import time\n",
    "import roboticstoolbox as rt\n",
    "import numpy as np\n",
    "\n",
    "start_time = time.time()\n",
    "\n",
    "Zpiso=0.095\n",
    "Zportaherramientas=0.1\n",
    "Zseguridad=0.15\n",
    "beta=0\n",
    "\n",
    "def ConvPosArr2QArr(PosArr):\n",
    "    [r,c]=PosArr.shape\n",
    "    QArr=np.zeros([r,c])\n",
    "    for i in range(r):\n",
    "        QArr[i,:]=ikine4r(PosArr[i,0],PosArr[i,1],PosArr[i,2],PosArr[i,3])    \n",
    "    return QArr\n",
    "\n",
    "\n",
    "\n",
    "def TrajRectDosPuntos(P_i,P_f,N):\n",
    "    c=len(P_i)\n",
    "    td=np.zeros([N,c])\n",
    "    for i in range(c):\n",
    "        if P_i[i]!=P_f[i]:\n",
    "            tg=rt.trapezoidal(P_i[i],P_f[i],N)\n",
    "            td[:,i]=tg.s\n",
    "        else:\n",
    "            td[:,i]=P_i[i]\n",
    "    return td\n",
    "\n",
    "\n",
    "\n",
    "\n",
    "\n",
    "\n",
    "def CompletoPuntos(Puntos,N):\n",
    "    [r,c]=Puntos.shape\n",
    "    Trayectoria=np.zeros([r-1,N,c])\n",
    "    for i in range(r-1):\n",
    "        Pi=Puntos[i,:]\n",
    "        Pf=Puntos[i+1,:]\n",
    "        Trayectoria[i,:,:]=TrajRectDosPuntos(Pi,Pf,N)\n",
    "\n",
    "    Arreglo=Trayectoria[0,:,:]\n",
    "    for i in range(r-2):\n",
    "        Arreglo=np.concatenate((Arreglo,Trayectoria[i+1,:,:]), axis=0)\n",
    "        print(Arreglo)\n",
    "    print(Arreglo)\n",
    "    return Arreglo\n",
    "\n",
    "\n",
    "\n",
    "PuntosA=np.array([[0.200,0.150,Zseguridad,beta],[0.200,0.150,Zpiso,beta],[0.250,0.125,Zpiso,beta],[0.200,0.100,Zpiso,beta],[0.225,0.1125,Zpiso,beta],[0.225,0.1375,Zpiso,beta],[0.225,0.1375,Zseguridad,beta]])\n",
    "PuntosJ=np.array([[0.250,0.100,Zseguridad,beta],[0.250,0.100,Zpiso,beta],[0.250,0.050,Zpiso,beta],[0.250,0.075,Zpiso,beta],[0.200,0.075,Zpiso,beta],[0.200,0.100,Zpiso,beta],[0.200,0.100,Zseguridad,beta]])\n",
    "PuntosTri=np.array([[0.200,0,Zseguridad,beta],[0.200,0,Zpiso,beta],[0.200,0.050,Zpiso,beta],[0.2433,0.025,Zpiso,beta],[0.200,0,Zpiso,beta],[0.200,0,Zseguridad,beta]])\n",
    "\n",
    "PuntosRectasParalelas=np.array([[0.200,-0.050,Zseguridad,beta],[0.200,-0.050,Zpiso,beta],[0.200,-0.100,Zpiso,beta],[0.200,-0.100,Zseguridad,beta],[0.225,-0.050,Zseguridad,beta],[0.225,-0.050,Zpiso,beta],[0.225,-0.100,Zpiso,beta],[0.225,-0.100,Zseguridad,beta],[0.250,-0.050,Zseguridad,beta],[0.250,-0.050,Zpiso,beta],[0.250,-0.100,Zpiso,beta],[0.250,-0.100,Zseguridad,beta]])\n",
    "PuntosR2=np.array([[0.225,-0.050,Zseguridad,beta],[0.225,-0.050,Zpiso,beta],[0.225,-0.100,Zpiso,beta],[0.225,-0.100,Zseguridad,beta]])\n",
    "PuntosR3=np.array([[0.250,-0.050,Zseguridad,beta],[0.250,-0.050,Zpiso,beta],[0.250,-0.100,Zpiso,beta],[0.250,-0.100,Zseguridad,beta]])\n",
    "PuntosEQTablero=np.array([[0.200,-0.125,Zseguridad,beta],[0.200,-0.125,Zpiso,beta],[0.200,-0.125,Zseguridad,beta],[0.210,-0.125,Zseguridad,beta],[0.210,-0.125,Zpiso,beta],[0.210,-0.125,Zseguridad,beta],[0.220,-0.125,Zseguridad,beta],[0.220,-0.125,Zpiso,beta],[0.220,-0.125,Zseguridad,beta],[0.230,-0.125,Zseguridad,beta],[0.230,-0.125,Zpiso,beta],[0.230,-0.125,Zseguridad,beta],[0.240,-0.125,Zseguridad,beta],[0.240,-0.125,Zpiso,beta],[0.240,-0.125,Zseguridad,beta],[0.250,-0.125,Zseguridad,beta],[0.250,-0.125,Zpiso,beta],[0.250,-0.125,Zseguridad,beta]])\n",
    "\n",
    "#Qpuntos\n",
    "\n",
    "\n",
    "AngHomeGrad=np.array([150,150,60,150,150])\n",
    "AngHomeRad=np.multiply(AngHomeGrad,np.pi/180)\n",
    "\n",
    "\n",
    "def ActualizarRegistros(P_o):\n",
    "    for i in range(len(P_o)):\n",
    "        #jointCommand('', (i+1), 'Goal_Position', P_o[i], 0.05)\n",
    "        s=1\n",
    "    print(P_o)\n",
    "\n",
    "\n",
    "\n",
    "def RealizarRutina(Puntos,N):\n",
    "    PuntosTrayectoria=CompletoPuntos(Puntos,N)\n",
    "    C1=ConvPosArr2QArr(PuntosTrayectoria[:,:])\n",
    "    [r,c]=C1.shape\n",
    "    for i in range(r):\n",
    "        #print(ConvRad2An(C1[i,:],AngHomeRad[0:c]))\n",
    "        ActualizarRegistros(ConvRad2An(C1[i,:],AngHomeRad[0:c]))\n",
    "        time.sleep(0.1)\n",
    "\n",
    "\n",
    "\n",
    "#RealizarRutina(PuntosJ,10)\n",
    "\n",
    "\n",
    "end_time = time.time()\n",
    "Tiempo=end_time-start_time\n",
    "print(\"\\ntiempo de ejecucion: %.2f s\" % Tiempo)"
   ]
  },
  {
   "cell_type": "code",
   "execution_count": 32,
   "metadata": {},
   "outputs": [
    {
     "data": {
      "text/plain": [
       "array([0.10260604, 0.28190779, 0.095     , 0.        ])"
      ]
     },
     "execution_count": 32,
     "metadata": {},
     "output_type": "execute_result"
    }
   ],
   "source": [
    "def TrajCambioArticulacion(Lim,N):\n",
    "    tg=rt.trapezoidal(-Lim,Lim,N)\n",
    "    return tg.s\n",
    "\n",
    "\n",
    "TrajCambioArticulacion(70,5)\n",
    "\n",
    "\n",
    "lim=70*np.pi/180\n",
    "AngArcMinIzq=ikine4r(0.168,0,Zpiso,0)\n",
    "\n",
    "\n",
    "PosArcMin=np.array([0.168*np.cos(lim),0.168*np.sin(lim),Zpiso,0])\n",
    "PosArcMax=np.array([0.3*np.cos(lim),0.3*np.sin(lim),Zpiso,0])\n",
    "\n",
    "\n"
   ]
  },
  {
   "cell_type": "markdown",
   "metadata": {},
   "source": []
  },
  {
   "cell_type": "code",
   "execution_count": 28,
   "metadata": {},
   "outputs": [
    {
     "name": "stdout",
     "output_type": "stream",
     "text": [
      "[[ 0.2        0.         0.242      0.       ]\n",
      " [ 0.1859375 -0.028125   0.2290625  0.       ]\n",
      " [ 0.15      -0.1        0.196      0.       ]\n",
      " [ 0.1140625 -0.171875   0.1629375  0.       ]\n",
      " [ 0.1       -0.2        0.15       0.       ]]\n",
      "[511. 511. 204. 511.]\n",
      "[482. 532. 160. 534.]\n",
      "[396. 528.  99. 599.]\n",
      "[319. 443. 122. 661.]\n",
      "[295. 401. 156. 669.]\n"
     ]
    }
   ],
   "source": [
    "def CompletoPuntos(Puntos,N):\n",
    "    [r,c]=Puntos.shape\n",
    "    Trayectoria=np.zeros([r-1,N,c])\n",
    "    for i in range(r-1):\n",
    "        Pi=Puntos[i,:]\n",
    "        Pf=Puntos[i+1,:]\n",
    "        Trayectoria[i,:,:]=TrajRectDosPuntos(Pi,Pf,N)\n",
    "\n",
    "    Arreglo=Trayectoria[0,:,:]\n",
    "    for i in range(r-2):\n",
    "        Arreglo=np.concatenate((Arreglo,Trayectoria[i+1,:,:]), axis=0)\n",
    "        print(Arreglo)\n",
    "    print(Arreglo)\n",
    "    return Arreglo\n",
    "\n",
    "qHome=np.array([0.2,0,0.242,0])\n",
    "\n",
    "qPortaHerramientasArriba=[0.1,-0.2,Zseguridad,0]\n",
    "qPortaHerramientasAbajo=[0.1,-0.2,Zportaherramientas,0]\n",
    "\n",
    "N=5\n",
    "Puntos=np.zeros([2,4])\n",
    "Puntos[0,:]=qHome\n",
    "Puntos[1,:]=qPortaHerramientasArriba\n",
    "#Puntos[2,:]=qPortaHerramientasAbajo\n",
    "RealizarRutina(Puntos,N)\n",
    "\n"
   ]
  },
  {
   "cell_type": "code",
   "execution_count": 9,
   "metadata": {},
   "outputs": [],
   "source": [
    "\n",
    "N=5\n",
    "Puntos=np.zeros([3,4])\n",
    "Puntos[0,:]=qHome\n",
    "Puntos[1,:]=np.array([0.1,-0.2,Zseguridad,0])\n",
    "Puntos[2,:]=np.array([0.1,-0.2,Zportaherramientas,0])\n",
    "RealizarRutina(Puntos,N)\n"
   ]
  }
 ],
 "metadata": {
  "kernelspec": {
   "display_name": "Python 3.9.12 ('base')",
   "language": "python",
   "name": "python3"
  },
  "language_info": {
   "codemirror_mode": {
    "name": "ipython",
    "version": 3
   },
   "file_extension": ".py",
   "mimetype": "text/x-python",
   "name": "python",
   "nbconvert_exporter": "python",
   "pygments_lexer": "ipython3",
   "version": "3.9.12"
  },
  "orig_nbformat": 4,
  "vscode": {
   "interpreter": {
    "hash": "c4f92193806e2908606a5f23edd55a5282f2f433b73b1c504507f9256ed9f0b4"
   }
  }
 },
 "nbformat": 4,
 "nbformat_minor": 2
}
