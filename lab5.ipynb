{
 "cells": [
  {
   "cell_type": "code",
   "execution_count": 1,
   "metadata": {},
   "outputs": [],
   "source": [
    "import numpy as np"
   ]
  },
  {
   "cell_type": "code",
   "execution_count": 2,
   "metadata": {},
   "outputs": [],
   "source": [
    "\n",
    "def theta_1(P_x,P_y):\n",
    "    return np.arctan2(P_y,P_x)\n",
    "\n",
    "def theta_2(P_x,P_y,P_z,beta,L_1,L_2,L_3,L_4):\n",
    "    R=np.sqrt(P_x**2+P_y**2)\n",
    "    D_r=R-L_4*np.cos(beta)\n",
    "    D_z=P_z-L_4*np.sin(beta)-L_1\n",
    "    return 2*np.arctan((2*D_z*L_2 + np.sqrt(- D_r**4 - 2*D_r**2*D_z**2 + 2*D_r**2*L_2**2 + 2*D_r**2*L_3**2 - D_z**4 + 2*D_z**2*L_2**2 + 2*D_z**2*L_3**2 - L_2**4 + 2*L_2**2*L_3**2 - L_3**4))/(D_r**2 + 2*D_r*L_2 + D_z**2 + L_2**2 - L_3**2))\n",
    "\n",
    "def theta_3(P_x,P_y,P_z,beta,L_1,L_2,L_3,L_4):\n",
    "    R=np.sqrt(P_x**2+P_y**2)\n",
    "    D_r=R-L_4*np.cos(beta)\n",
    "    D_z=P_z-L_4*np.sin(beta)-L_1\n",
    "    return -2*np.arctan(np.sqrt((- D_r**2 - D_z**2 + L_2**2 + 2*L_2*L_3 + L_3**2)*(D_r**2 + D_z**2 - L_2**2 + 2*L_2*L_3 - L_3**2))/(D_r**2 + D_z**2 - L_2**2 + 2*L_2*L_3 - L_3**2))\n",
    "\n",
    "def theta_4(beta,theta_2,theta_3):\n",
    "    return beta-theta_2-theta_3\n",
    "\n",
    "def ikine4r(P_x,P_y,P_z,beta,L_1,L_2,L_3,L_4):\n",
    "    T1=theta_1(P_x,P_y)\n",
    "    T2=theta_2(P_x,P_y,P_z,beta,L_1,L_2,L_3,L_4)\n",
    "    T3=theta_3(P_x,P_y,P_z,beta,L_1,L_2,L_3,L_4)\n",
    "    T4=theta_4(beta,T2,T3)\n",
    "    return np.array([T1,T2,T3,T4])"
   ]
  },
  {
   "cell_type": "markdown",
   "metadata": {},
   "source": []
  },
  {
   "cell_type": "code",
   "execution_count": 11,
   "metadata": {},
   "outputs": [
    {
     "data": {
      "text/plain": [
       "902"
      ]
     },
     "execution_count": 11,
     "metadata": {},
     "output_type": "execute_result"
    }
   ],
   "source": [
    "from typing import Mapping\n",
    "\n",
    "from numpy import interp\n",
    "from numpy import pi\n",
    "import numpy as np\n",
    "\n",
    "\n",
    "\n",
    "\n",
    "def mapAn(theta):\n",
    "    return int(interp(theta,[-150, 150],[0, 1023]))\n",
    "\n",
    "\n",
    "mapAn(2)"
   ]
  },
  {
   "cell_type": "code",
   "execution_count": null,
   "metadata": {},
   "outputs": [],
   "source": [
    "713\n",
    "962\n",
    "162"
   ]
  }
 ],
 "metadata": {
  "kernelspec": {
   "display_name": "Python 3.9.14 64-bit",
   "language": "python",
   "name": "python3"
  },
  "language_info": {
   "codemirror_mode": {
    "name": "ipython",
    "version": 3
   },
   "file_extension": ".py",
   "mimetype": "text/x-python",
   "name": "python",
   "nbconvert_exporter": "python",
   "pygments_lexer": "ipython3",
   "version": "3.9.14"
  },
  "orig_nbformat": 4,
  "vscode": {
   "interpreter": {
    "hash": "36cf16204b8548560b1c020c4e8fb5b57f0e4c58016f52f2d4be01e192833930"
   }
  }
 },
 "nbformat": 4,
 "nbformat_minor": 2
}
